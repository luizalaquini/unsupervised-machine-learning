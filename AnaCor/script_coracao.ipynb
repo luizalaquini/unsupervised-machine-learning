{
 "cells": [
  {
   "cell_type": "markdown",
   "metadata": {},
   "source": [
    "## Análise de Correspondência Simples e Múltipla\n",
    "### MBA em Data Science e Analytics USP ESALQ\n",
    "\n",
    "**Prof Dr.** Wilson Tarantin Junior\n",
    "\n",
    "**Aluna:** Luiza Batista Laquini\n",
    "\n",
    "**Turma:** DSA 2024-1"
   ]
  },
  {
   "cell_type": "code",
   "execution_count": null,
   "metadata": {},
   "outputs": [
    {
     "ename": "",
     "evalue": "",
     "output_type": "error",
     "traceback": [
      "\u001b[1;31mRunning cells with '.venv (Python 3.10.2)' requires the ipykernel package.\n",
      "\u001b[1;31mRun the following command to install 'ipykernel' into the Python environment. \n",
      "\u001b[1;31mCommand: 'c:/Users/luiza/Documents/GitHub/unsupervised-machine-learning/.venv/Scripts/python.exe -m pip install ipykernel -U --force-reinstall'"
     ]
    }
   ],
   "source": [
    "import importlib.util as import_util\n",
    "import_util.find_spec('venv')"
   ]
  },
  {
   "cell_type": "code",
   "execution_count": 5,
   "metadata": {},
   "outputs": [
    {
     "ename": "ModuleNotFoundError",
     "evalue": "No module named 'pandas'",
     "output_type": "error",
     "traceback": [
      "\u001b[1;31m---------------------------------------------------------------------------\u001b[0m",
      "\u001b[1;31mModuleNotFoundError\u001b[0m                       Traceback (most recent call last)",
      "Cell \u001b[1;32mIn[5], line 1\u001b[0m\n\u001b[1;32m----> 1\u001b[0m \u001b[38;5;28;01mimport\u001b[39;00m \u001b[38;5;21;01mpandas\u001b[39;00m \u001b[38;5;28;01mas\u001b[39;00m \u001b[38;5;21;01mpd\u001b[39;00m\n\u001b[0;32m      2\u001b[0m \u001b[38;5;28;01mimport\u001b[39;00m \u001b[38;5;21;01mnumpy\u001b[39;00m \u001b[38;5;28;01mas\u001b[39;00m \u001b[38;5;21;01mnp\u001b[39;00m\n\u001b[0;32m      3\u001b[0m \u001b[38;5;28;01mfrom\u001b[39;00m \u001b[38;5;21;01mscipy\u001b[39;00m\u001b[38;5;21;01m.\u001b[39;00m\u001b[38;5;21;01mstats\u001b[39;00m \u001b[38;5;28;01mimport\u001b[39;00m chi2_contingency\n",
      "\u001b[1;31mModuleNotFoundError\u001b[0m: No module named 'pandas'"
     ]
    }
   ],
   "source": [
    "import pandas as pd\n",
    "import numpy as np\n",
    "from scipy.stats import chi2_contingency\n",
    "import statsmodels.api as sm\n",
    "import seaborn as sns\n",
    "import matplotlib.pyplot as plt\n",
    "import prince\n",
    "import plotly.graph_objects as go\n",
    "from itertools import combinations\n",
    "\n",
    "#import plotly.io as pio\n",
    "#pio.renderers.default = 'browser'\n",
    "\n",
    "import warnings\n",
    "warnings.filterwarnings(\"ignore\")"
   ]
  },
  {
   "cell_type": "markdown",
   "metadata": {},
   "source": [
    "### Análise de Correspondência Multipla (MCA)"
   ]
  },
  {
   "cell_type": "code",
   "execution_count": null,
   "metadata": {},
   "outputs": [],
   "source": [
    "# Importando o banco de dados\n",
    "\n",
    "dados_mca = pd.read_excel(\"dados_cor_acm.xlsx\")\n",
    "# Fonte: adaptado de https://www.kaggle.com/datasets/fedesoriano/heart-failure-prediction\n",
    "\n",
    "dados_mca.info()"
   ]
  },
  {
   "cell_type": "code",
   "execution_count": null,
   "metadata": {},
   "outputs": [],
   "source": [
    "dados_mca.head(3)"
   ]
  },
  {
   "cell_type": "code",
   "execution_count": null,
   "metadata": {},
   "outputs": [],
   "source": [
    "#%% Analisando as variáveis\n",
    "\n",
    "# Algumas variáveis do banco de dados são métricas\n",
    "# Um procedimento aplicável a elas é a categorização\n",
    "\n",
    "# Vamos categorizar utilizando um critério quantitativo\n",
    "\n",
    "dados_mca['idade'] = pd.qcut(dados_mca['idade'], 3, labels=list(['menores_idades', 'idades_medias', 'maiores_idades']))\n",
    "dados_mca['ps.descanco'] = pd.qcut(dados_mca['ps.descanco'], 3, labels=list(['ps_baixa', 'ps_media', 'ps_alta']))\n",
    "dados_mca['colesterol'] = pd.qcut(dados_mca['colesterol'], 3, labels=list(['col_baixo', 'col_medio', 'col_alto']))\n",
    "dados_mca['bc.max'] = pd.qcut(dados_mca['bc.max'], 3, labels=list(['bc_baixo', 'bc_medio', 'bc_alto']))"
   ]
  },
  {
   "cell_type": "code",
   "execution_count": null,
   "metadata": {},
   "outputs": [],
   "source": [
    "#%% Analisando as tabelas de contingência\n",
    "\n",
    "# A seguir, a função extrai todas as tabelas de contingência possíveis\n",
    "\n",
    "for item in list(combinations(dados_mca.columns, 2)):\n",
    "    print(item, \"\\n\")\n",
    "    tabela = pd.crosstab(dados_mca[item[0]], dados_mca[item[1]])\n",
    "    \n",
    "    print(tabela)\n",
    "    \n",
    "    chi2, pvalor, gl, freq_esp = chi2_contingency(tabela)\n",
    "\n",
    "    print(f\"estatística qui²: {round(chi2, 2)}\")\n",
    "    print(f\"p-valor da estatística: {round(pvalor, 4)}\", \"\\n\")"
   ]
  },
  {
   "cell_type": "code",
   "execution_count": null,
   "metadata": {},
   "outputs": [],
   "source": [
    "#%% Elaborando a MCA\n",
    "\n",
    "mca = prince.MCA(n_components=2).fit(dados_mca)\n",
    "\n",
    "# Vamos parametrizar a MCA para duas dimensões"
   ]
  },
  {
   "cell_type": "code",
   "execution_count": null,
   "metadata": {},
   "outputs": [],
   "source": [
    "#%% Quantidade total de dimensões\n",
    "\n",
    "# Quantidade de dimensões = qtde total de categorias - qtde de variáveis\n",
    "\n",
    "# Quantidade total de categorias\n",
    "mca.J_\n",
    "\n",
    "# Quantidade de variáveis na análise\n",
    "mca.K_\n",
    "\n",
    "# Quantidade de dimensões\n",
    "quant_dim = mca.J_ - mca.K_\n",
    "\n",
    "# Resumo das informações\n",
    "print(f\"quantidade total de categorias: {mca.J_}\")\n",
    "print(f\"quantidade de variáveis: {mca.K_}\")\n",
    "print(f\"quantidade de dimensões: {quant_dim}\")"
   ]
  },
  {
   "cell_type": "code",
   "execution_count": null,
   "metadata": {},
   "outputs": [],
   "source": [
    "#%% Obtendo os eigenvalues\n",
    "\n",
    "tabela_autovalores = mca.eigenvalues_summary\n",
    "\n",
    "print(tabela_autovalores)"
   ]
  },
  {
   "cell_type": "code",
   "execution_count": null,
   "metadata": {},
   "outputs": [],
   "source": [
    "#%% Inércia principal total\n",
    "\n",
    "# Soma de todos os autovalores (todas as dimensões existentes)\n",
    "\n",
    "print(mca.total_inertia_)"
   ]
  },
  {
   "cell_type": "code",
   "execution_count": null,
   "metadata": {},
   "outputs": [],
   "source": [
    "#%% Obtendo as coordenadas principais das categorias das variáveis\n",
    "\n",
    "coord_burt = mca.column_coordinates(dados_mca)\n",
    "\n",
    "print(coord_burt)"
   ]
  },
  {
   "cell_type": "code",
   "execution_count": null,
   "metadata": {},
   "outputs": [],
   "source": [
    "#%% Obtendo as coordenadas-padrão das categorias das variáveis\n",
    "\n",
    "coord_padrao = mca.column_coordinates(dados_mca)/np.sqrt(mca.eigenvalues_)\n",
    "\n",
    "print(coord_padrao)"
   ]
  },
  {
   "cell_type": "code",
   "execution_count": null,
   "metadata": {},
   "outputs": [],
   "source": [
    "#%% Obtendo as coordenadas das observações do banco de dados\n",
    "\n",
    "# Na função, as coordenadas das observações vêm das coordenadas-padrão\n",
    "\n",
    "coord_obs = mca.row_coordinates(dados_mca)\n",
    "\n",
    "print(coord_obs)"
   ]
  },
  {
   "cell_type": "code",
   "execution_count": null,
   "metadata": {},
   "outputs": [],
   "source": [
    "#%% Plotando o mapa perceptual (coordenadas-padrão)\n",
    "\n",
    "# Primeiro passo: gerar um DataFrame detalhado\n",
    "\n",
    "chart = coord_padrao.reset_index()\n",
    "\n",
    "nome_categ=[]\n",
    "for col in dados_mca:\n",
    "    nome_categ.append(dados_mca[col].sort_values(ascending=True).unique())\n",
    "    categorias = pd.DataFrame(nome_categ).stack().reset_index()\n",
    "\n",
    "var_chart = pd.Series(chart['index'].str.split('_', expand=True).iloc[:,0])\n",
    "\n",
    "chart_df_mca = pd.DataFrame({'categoria': chart['index'],\n",
    "                             'obs_x': chart[0],\n",
    "                             'obs_y': chart[1],\n",
    "                             'variavel': var_chart,\n",
    "                             'categoria_id': categorias[0]})\n",
    "\n",
    "# Segundo passo: gerar o gráfico de pontos\n",
    "    \n",
    "def label_point(x, y, val, ax):\n",
    "    a = pd.concat({'x': x, 'y': y, 'val': val}, axis=1)\n",
    "    for i, point in a.iterrows():\n",
    "        ax.text(point['x'] + 0.03, point['y'] - 0.02, point['val'], fontsize=5)\n",
    "\n",
    "label_point(x = chart_df_mca['obs_x'],\n",
    "            y = chart_df_mca['obs_y'],\n",
    "            val = chart_df_mca['categoria_id'],\n",
    "            ax = plt.gca())\n",
    "\n",
    "sns.scatterplot(data=chart_df_mca, x='obs_x', y='obs_y', hue='variavel', s=20)\n",
    "sns.despine(top=True, right=True, left=False, bottom=False)\n",
    "plt.axhline(y=0, color='lightgrey', ls='--', linewidth=0.8)\n",
    "plt.axvline(x=0, color='lightgrey', ls='--', linewidth=0.8)\n",
    "plt.tick_params(size=2, labelsize=6)\n",
    "plt.legend(bbox_to_anchor=(1.25,-0.2), fancybox=True, shadow=True, ncols=10, fontsize='5')\n",
    "plt.title(\"Mapa Perceptual - MCA\", fontsize=12)\n",
    "plt.xlabel(f\"Dim. 1: {tabela_autovalores.iloc[0,1]} da inércia\", fontsize=8)\n",
    "plt.ylabel(f\"Dim. 2: {tabela_autovalores.iloc[1,1]} da inércia\", fontsize=8)\n",
    "plt.show()"
   ]
  },
  {
   "cell_type": "code",
   "execution_count": null,
   "metadata": {},
   "outputs": [],
   "source": [
    "#%% Gráfico das observações\n",
    "\n",
    "coord_obs['doenca.card'] = dados_mca['doenca.card']\n",
    "\n",
    "sns.scatterplot(data=coord_obs, x=0, y=1, hue='doenca.card', s=20)\n",
    "plt.title(\"Mapa das Observações - MCA\", fontsize=12)\n",
    "plt.xlabel(\"Dimensão 1\", fontsize=8)\n",
    "plt.ylabel(\"Dimensão 2\", fontsize=8)\n",
    "plt.show()"
   ]
  }
 ],
 "metadata": {
  "kernelspec": {
   "display_name": "Python 3",
   "language": "python",
   "name": "python3"
  },
  "language_info": {
   "codemirror_mode": {
    "name": "ipython",
    "version": 3
   },
   "file_extension": ".py",
   "mimetype": "text/x-python",
   "name": "python",
   "nbconvert_exporter": "python",
   "pygments_lexer": "ipython3",
   "version": "3.10.2"
  }
 },
 "nbformat": 4,
 "nbformat_minor": 2
}
